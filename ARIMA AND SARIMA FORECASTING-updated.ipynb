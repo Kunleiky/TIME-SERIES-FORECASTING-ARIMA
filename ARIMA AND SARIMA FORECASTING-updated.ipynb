{
 "cells": [
  {
   "cell_type": "code",
   "execution_count": 4,
   "metadata": {},
   "outputs": [],
   "source": [
    "# import all packages that might be useful\n",
    "import sys # to manipulate different part of python runtime environment\n",
    "import numpy as np\n",
    "import pandas as pd\n",
    "import warnings\n",
    "warnings.filterwarnings('ignore')\n",
    "import matplotlib.pyplot as plt\n",
    "import seaborn as sns\n",
    "from sklearn import metrics\n",
    "from sklearn.metrics import mean_squared_error,mean_absolute_error\n",
    "import statsmodels.api as sm\n",
    "from statsmodels.tsa.stattools import adfuller\n",
    "from statsmodels.tsa.arima_model import ARIMA\n",
    "from pmdarima import auto_arima\n"
   ]
  },
  {
   "cell_type": "code",
   "execution_count": 5,
   "metadata": {},
   "outputs": [],
   "source": [
    "df = pd.read_csv(r'ncdc_covid_data.csv')"
   ]
  },
  {
   "cell_type": "code",
   "execution_count": 6,
   "metadata": {},
   "outputs": [
    {
     "data": {
      "text/html": [
       "<div>\n",
       "<style scoped>\n",
       "    .dataframe tbody tr th:only-of-type {\n",
       "        vertical-align: middle;\n",
       "    }\n",
       "\n",
       "    .dataframe tbody tr th {\n",
       "        vertical-align: top;\n",
       "    }\n",
       "\n",
       "    .dataframe thead th {\n",
       "        text-align: right;\n",
       "    }\n",
       "</style>\n",
       "<table border=\"1\" class=\"dataframe\">\n",
       "  <thead>\n",
       "    <tr style=\"text-align: right;\">\n",
       "      <th></th>\n",
       "      <th>Date</th>\n",
       "      <th>Confirmed cases</th>\n",
       "      <th>New cases</th>\n",
       "      <th>Total deaths</th>\n",
       "      <th>New deaths</th>\n",
       "      <th>Total recovery</th>\n",
       "      <th>Active cases</th>\n",
       "    </tr>\n",
       "  </thead>\n",
       "  <tbody>\n",
       "    <tr>\n",
       "      <th>0</th>\n",
       "      <td>8/21/2021</td>\n",
       "      <td>186635</td>\n",
       "      <td>1064</td>\n",
       "      <td>2260</td>\n",
       "      <td>13</td>\n",
       "      <td>168320</td>\n",
       "      <td>16055</td>\n",
       "    </tr>\n",
       "    <tr>\n",
       "      <th>1</th>\n",
       "      <td>8/22/2021</td>\n",
       "      <td>187023</td>\n",
       "      <td>388</td>\n",
       "      <td>2268</td>\n",
       "      <td>8</td>\n",
       "      <td>168455</td>\n",
       "      <td>16300</td>\n",
       "    </tr>\n",
       "    <tr>\n",
       "      <th>2</th>\n",
       "      <td>8/23/2021</td>\n",
       "      <td>187588</td>\n",
       "      <td>565</td>\n",
       "      <td>2276</td>\n",
       "      <td>8</td>\n",
       "      <td>168818</td>\n",
       "      <td>16494</td>\n",
       "    </tr>\n",
       "    <tr>\n",
       "      <th>3</th>\n",
       "      <td>8/24/2021</td>\n",
       "      <td>188243</td>\n",
       "      <td>655</td>\n",
       "      <td>2281</td>\n",
       "      <td>5</td>\n",
       "      <td>169035</td>\n",
       "      <td>16927</td>\n",
       "    </tr>\n",
       "    <tr>\n",
       "      <th>4</th>\n",
       "      <td>8/25/2021</td>\n",
       "      <td>188880</td>\n",
       "      <td>637</td>\n",
       "      <td>2288</td>\n",
       "      <td>7</td>\n",
       "      <td>169382</td>\n",
       "      <td>17210</td>\n",
       "    </tr>\n",
       "    <tr>\n",
       "      <th>5</th>\n",
       "      <td>8/26/2021</td>\n",
       "      <td>189715</td>\n",
       "      <td>835</td>\n",
       "      <td>2298</td>\n",
       "      <td>10</td>\n",
       "      <td>169626</td>\n",
       "      <td>17791</td>\n",
       "    </tr>\n",
       "    <tr>\n",
       "      <th>6</th>\n",
       "      <td>8/27/2021</td>\n",
       "      <td>190333</td>\n",
       "      <td>618</td>\n",
       "      <td>2308</td>\n",
       "      <td>10</td>\n",
       "      <td>169815</td>\n",
       "      <td>18210</td>\n",
       "    </tr>\n",
       "    <tr>\n",
       "      <th>7</th>\n",
       "      <td>8/28/2021</td>\n",
       "      <td>190983</td>\n",
       "      <td>650</td>\n",
       "      <td>2361</td>\n",
       "      <td>53</td>\n",
       "      <td>178047</td>\n",
       "      <td>10575</td>\n",
       "    </tr>\n",
       "    <tr>\n",
       "      <th>8</th>\n",
       "      <td>8/29/2021</td>\n",
       "      <td>191345</td>\n",
       "      <td>362</td>\n",
       "      <td>2454</td>\n",
       "      <td>93</td>\n",
       "      <td>178283</td>\n",
       "      <td>10608</td>\n",
       "    </tr>\n",
       "    <tr>\n",
       "      <th>9</th>\n",
       "      <td>8/30/2021</td>\n",
       "      <td>191805</td>\n",
       "      <td>460</td>\n",
       "      <td>2455</td>\n",
       "      <td>1</td>\n",
       "      <td>178492</td>\n",
       "      <td>10858</td>\n",
       "    </tr>\n",
       "    <tr>\n",
       "      <th>10</th>\n",
       "      <td>8/31/2021</td>\n",
       "      <td>192431</td>\n",
       "      <td>626</td>\n",
       "      <td>2469</td>\n",
       "      <td>14</td>\n",
       "      <td>178759</td>\n",
       "      <td>11203</td>\n",
       "    </tr>\n",
       "    <tr>\n",
       "      <th>11</th>\n",
       "      <td>09/01/2021</td>\n",
       "      <td>193013</td>\n",
       "      <td>582</td>\n",
       "      <td>2480</td>\n",
       "      <td>11</td>\n",
       "      <td>179000</td>\n",
       "      <td>11533</td>\n",
       "    </tr>\n",
       "    <tr>\n",
       "      <th>12</th>\n",
       "      <td>09/02/2021</td>\n",
       "      <td>193644</td>\n",
       "      <td>631</td>\n",
       "      <td>2488</td>\n",
       "      <td>8</td>\n",
       "      <td>179294</td>\n",
       "      <td>11862</td>\n",
       "    </tr>\n",
       "    <tr>\n",
       "      <th>13</th>\n",
       "      <td>09/03/2021</td>\n",
       "      <td>194088</td>\n",
       "      <td>444</td>\n",
       "      <td>2495</td>\n",
       "      <td>7</td>\n",
       "      <td>179679</td>\n",
       "      <td>11914</td>\n",
       "    </tr>\n",
       "    <tr>\n",
       "      <th>14</th>\n",
       "      <td>09/04/2021</td>\n",
       "      <td>195052</td>\n",
       "      <td>964</td>\n",
       "      <td>2522</td>\n",
       "      <td>27</td>\n",
       "      <td>182463</td>\n",
       "      <td>10067</td>\n",
       "    </tr>\n",
       "    <tr>\n",
       "      <th>15</th>\n",
       "      <td>09/05/2021</td>\n",
       "      <td>195511</td>\n",
       "      <td>459</td>\n",
       "      <td>2552</td>\n",
       "      <td>30</td>\n",
       "      <td>184530</td>\n",
       "      <td>8429</td>\n",
       "    </tr>\n",
       "    <tr>\n",
       "      <th>16</th>\n",
       "      <td>09/06/2021</td>\n",
       "      <td>195890</td>\n",
       "      <td>379</td>\n",
       "      <td>2556</td>\n",
       "      <td>4</td>\n",
       "      <td>184882</td>\n",
       "      <td>8452</td>\n",
       "    </tr>\n",
       "    <tr>\n",
       "      <th>17</th>\n",
       "      <td>09/07/2021</td>\n",
       "      <td>196487</td>\n",
       "      <td>597</td>\n",
       "      <td>2573</td>\n",
       "      <td>17</td>\n",
       "      <td>185159</td>\n",
       "      <td>8755</td>\n",
       "    </tr>\n",
       "    <tr>\n",
       "      <th>18</th>\n",
       "      <td>09/08/2021</td>\n",
       "      <td>197046</td>\n",
       "      <td>559</td>\n",
       "      <td>2578</td>\n",
       "      <td>5</td>\n",
       "      <td>185379</td>\n",
       "      <td>9089</td>\n",
       "    </tr>\n",
       "  </tbody>\n",
       "</table>\n",
       "</div>"
      ],
      "text/plain": [
       "          Date  Confirmed cases  New cases  Total deaths  New deaths  \\\n",
       "0    8/21/2021           186635       1064          2260          13   \n",
       "1    8/22/2021           187023        388          2268           8   \n",
       "2    8/23/2021           187588        565          2276           8   \n",
       "3    8/24/2021           188243        655          2281           5   \n",
       "4    8/25/2021           188880        637          2288           7   \n",
       "5    8/26/2021           189715        835          2298          10   \n",
       "6    8/27/2021           190333        618          2308          10   \n",
       "7    8/28/2021           190983        650          2361          53   \n",
       "8    8/29/2021           191345        362          2454          93   \n",
       "9    8/30/2021           191805        460          2455           1   \n",
       "10   8/31/2021           192431        626          2469          14   \n",
       "11  09/01/2021           193013        582          2480          11   \n",
       "12  09/02/2021           193644        631          2488           8   \n",
       "13  09/03/2021           194088        444          2495           7   \n",
       "14  09/04/2021           195052        964          2522          27   \n",
       "15  09/05/2021           195511        459          2552          30   \n",
       "16  09/06/2021           195890        379          2556           4   \n",
       "17  09/07/2021           196487        597          2573          17   \n",
       "18  09/08/2021           197046        559          2578           5   \n",
       "\n",
       "    Total recovery  Active cases  \n",
       "0           168320         16055  \n",
       "1           168455         16300  \n",
       "2           168818         16494  \n",
       "3           169035         16927  \n",
       "4           169382         17210  \n",
       "5           169626         17791  \n",
       "6           169815         18210  \n",
       "7           178047         10575  \n",
       "8           178283         10608  \n",
       "9           178492         10858  \n",
       "10          178759         11203  \n",
       "11          179000         11533  \n",
       "12          179294         11862  \n",
       "13          179679         11914  \n",
       "14          182463         10067  \n",
       "15          184530          8429  \n",
       "16          184882          8452  \n",
       "17          185159          8755  \n",
       "18          185379          9089  "
      ]
     },
     "execution_count": 6,
     "metadata": {},
     "output_type": "execute_result"
    }
   ],
   "source": [
    "df"
   ]
  },
  {
   "cell_type": "code",
   "execution_count": 7,
   "metadata": {},
   "outputs": [
    {
     "data": {
      "text/html": [
       "<div>\n",
       "<style scoped>\n",
       "    .dataframe tbody tr th:only-of-type {\n",
       "        vertical-align: middle;\n",
       "    }\n",
       "\n",
       "    .dataframe tbody tr th {\n",
       "        vertical-align: top;\n",
       "    }\n",
       "\n",
       "    .dataframe thead th {\n",
       "        text-align: right;\n",
       "    }\n",
       "</style>\n",
       "<table border=\"1\" class=\"dataframe\">\n",
       "  <thead>\n",
       "    <tr style=\"text-align: right;\">\n",
       "      <th></th>\n",
       "      <th>Date</th>\n",
       "      <th>Confirmed cases</th>\n",
       "      <th>New cases</th>\n",
       "      <th>Total deaths</th>\n",
       "      <th>New deaths</th>\n",
       "      <th>Total recovery</th>\n",
       "      <th>Active cases</th>\n",
       "    </tr>\n",
       "  </thead>\n",
       "  <tbody>\n",
       "    <tr>\n",
       "      <th>0</th>\n",
       "      <td>8/21/2021</td>\n",
       "      <td>186635</td>\n",
       "      <td>1064</td>\n",
       "      <td>2260</td>\n",
       "      <td>13</td>\n",
       "      <td>168320</td>\n",
       "      <td>16055</td>\n",
       "    </tr>\n",
       "    <tr>\n",
       "      <th>1</th>\n",
       "      <td>8/22/2021</td>\n",
       "      <td>187023</td>\n",
       "      <td>388</td>\n",
       "      <td>2268</td>\n",
       "      <td>8</td>\n",
       "      <td>168455</td>\n",
       "      <td>16300</td>\n",
       "    </tr>\n",
       "    <tr>\n",
       "      <th>2</th>\n",
       "      <td>8/23/2021</td>\n",
       "      <td>187588</td>\n",
       "      <td>565</td>\n",
       "      <td>2276</td>\n",
       "      <td>8</td>\n",
       "      <td>168818</td>\n",
       "      <td>16494</td>\n",
       "    </tr>\n",
       "    <tr>\n",
       "      <th>3</th>\n",
       "      <td>8/24/2021</td>\n",
       "      <td>188243</td>\n",
       "      <td>655</td>\n",
       "      <td>2281</td>\n",
       "      <td>5</td>\n",
       "      <td>169035</td>\n",
       "      <td>16927</td>\n",
       "    </tr>\n",
       "    <tr>\n",
       "      <th>4</th>\n",
       "      <td>8/25/2021</td>\n",
       "      <td>188880</td>\n",
       "      <td>637</td>\n",
       "      <td>2288</td>\n",
       "      <td>7</td>\n",
       "      <td>169382</td>\n",
       "      <td>17210</td>\n",
       "    </tr>\n",
       "  </tbody>\n",
       "</table>\n",
       "</div>"
      ],
      "text/plain": [
       "        Date  Confirmed cases  New cases  Total deaths  New deaths  \\\n",
       "0  8/21/2021           186635       1064          2260          13   \n",
       "1  8/22/2021           187023        388          2268           8   \n",
       "2  8/23/2021           187588        565          2276           8   \n",
       "3  8/24/2021           188243        655          2281           5   \n",
       "4  8/25/2021           188880        637          2288           7   \n",
       "\n",
       "   Total recovery  Active cases  \n",
       "0          168320         16055  \n",
       "1          168455         16300  \n",
       "2          168818         16494  \n",
       "3          169035         16927  \n",
       "4          169382         17210  "
      ]
     },
     "execution_count": 7,
     "metadata": {},
     "output_type": "execute_result"
    }
   ],
   "source": [
    "df.head()"
   ]
  },
  {
   "cell_type": "code",
   "execution_count": 8,
   "metadata": {},
   "outputs": [
    {
     "name": "stdout",
     "output_type": "stream",
     "text": [
      "<class 'pandas.core.frame.DataFrame'>\n",
      "RangeIndex: 19 entries, 0 to 18\n",
      "Data columns (total 7 columns):\n",
      " #   Column           Non-Null Count  Dtype \n",
      "---  ------           --------------  ----- \n",
      " 0   Date             19 non-null     object\n",
      " 1   Confirmed cases  19 non-null     int64 \n",
      " 2   New cases        19 non-null     int64 \n",
      " 3   Total deaths     19 non-null     int64 \n",
      " 4   New deaths       19 non-null     int64 \n",
      " 5   Total recovery   19 non-null     int64 \n",
      " 6   Active cases     19 non-null     int64 \n",
      "dtypes: int64(6), object(1)\n",
      "memory usage: 1.0+ KB\n"
     ]
    }
   ],
   "source": [
    "df.info()"
   ]
  },
  {
   "cell_type": "code",
   "execution_count": 9,
   "metadata": {},
   "outputs": [],
   "source": [
    "#Make the date column be of date data type. It is of object data type by default\n",
    "df['Date'] = pd.to_datetime(df['Date'])\n"
   ]
  },
  {
   "cell_type": "code",
   "execution_count": 10,
   "metadata": {},
   "outputs": [],
   "source": [
    "df=df.set_index('Date')"
   ]
  },
  {
   "cell_type": "code",
   "execution_count": 11,
   "metadata": {},
   "outputs": [
    {
     "data": {
      "text/html": [
       "<div>\n",
       "<style scoped>\n",
       "    .dataframe tbody tr th:only-of-type {\n",
       "        vertical-align: middle;\n",
       "    }\n",
       "\n",
       "    .dataframe tbody tr th {\n",
       "        vertical-align: top;\n",
       "    }\n",
       "\n",
       "    .dataframe thead th {\n",
       "        text-align: right;\n",
       "    }\n",
       "</style>\n",
       "<table border=\"1\" class=\"dataframe\">\n",
       "  <thead>\n",
       "    <tr style=\"text-align: right;\">\n",
       "      <th></th>\n",
       "      <th>Confirmed cases</th>\n",
       "      <th>New cases</th>\n",
       "      <th>Total deaths</th>\n",
       "      <th>New deaths</th>\n",
       "      <th>Total recovery</th>\n",
       "      <th>Active cases</th>\n",
       "    </tr>\n",
       "    <tr>\n",
       "      <th>Date</th>\n",
       "      <th></th>\n",
       "      <th></th>\n",
       "      <th></th>\n",
       "      <th></th>\n",
       "      <th></th>\n",
       "      <th></th>\n",
       "    </tr>\n",
       "  </thead>\n",
       "  <tbody>\n",
       "    <tr>\n",
       "      <th>2021-08-21</th>\n",
       "      <td>186635</td>\n",
       "      <td>1064</td>\n",
       "      <td>2260</td>\n",
       "      <td>13</td>\n",
       "      <td>168320</td>\n",
       "      <td>16055</td>\n",
       "    </tr>\n",
       "    <tr>\n",
       "      <th>2021-08-22</th>\n",
       "      <td>187023</td>\n",
       "      <td>388</td>\n",
       "      <td>2268</td>\n",
       "      <td>8</td>\n",
       "      <td>168455</td>\n",
       "      <td>16300</td>\n",
       "    </tr>\n",
       "    <tr>\n",
       "      <th>2021-08-23</th>\n",
       "      <td>187588</td>\n",
       "      <td>565</td>\n",
       "      <td>2276</td>\n",
       "      <td>8</td>\n",
       "      <td>168818</td>\n",
       "      <td>16494</td>\n",
       "    </tr>\n",
       "    <tr>\n",
       "      <th>2021-08-24</th>\n",
       "      <td>188243</td>\n",
       "      <td>655</td>\n",
       "      <td>2281</td>\n",
       "      <td>5</td>\n",
       "      <td>169035</td>\n",
       "      <td>16927</td>\n",
       "    </tr>\n",
       "    <tr>\n",
       "      <th>2021-08-25</th>\n",
       "      <td>188880</td>\n",
       "      <td>637</td>\n",
       "      <td>2288</td>\n",
       "      <td>7</td>\n",
       "      <td>169382</td>\n",
       "      <td>17210</td>\n",
       "    </tr>\n",
       "  </tbody>\n",
       "</table>\n",
       "</div>"
      ],
      "text/plain": [
       "            Confirmed cases  New cases  Total deaths  New deaths  \\\n",
       "Date                                                               \n",
       "2021-08-21           186635       1064          2260          13   \n",
       "2021-08-22           187023        388          2268           8   \n",
       "2021-08-23           187588        565          2276           8   \n",
       "2021-08-24           188243        655          2281           5   \n",
       "2021-08-25           188880        637          2288           7   \n",
       "\n",
       "            Total recovery  Active cases  \n",
       "Date                                      \n",
       "2021-08-21          168320         16055  \n",
       "2021-08-22          168455         16300  \n",
       "2021-08-23          168818         16494  \n",
       "2021-08-24          169035         16927  \n",
       "2021-08-25          169382         17210  "
      ]
     },
     "execution_count": 11,
     "metadata": {},
     "output_type": "execute_result"
    }
   ],
   "source": [
    "df.head()"
   ]
  },
  {
   "cell_type": "code",
   "execution_count": 12,
   "metadata": {},
   "outputs": [
    {
     "data": {
      "text/html": [
       "<div>\n",
       "<style scoped>\n",
       "    .dataframe tbody tr th:only-of-type {\n",
       "        vertical-align: middle;\n",
       "    }\n",
       "\n",
       "    .dataframe tbody tr th {\n",
       "        vertical-align: top;\n",
       "    }\n",
       "\n",
       "    .dataframe thead th {\n",
       "        text-align: right;\n",
       "    }\n",
       "</style>\n",
       "<table border=\"1\" class=\"dataframe\">\n",
       "  <thead>\n",
       "    <tr style=\"text-align: right;\">\n",
       "      <th></th>\n",
       "      <th>Confirmed cases</th>\n",
       "      <th>New cases</th>\n",
       "      <th>Total deaths</th>\n",
       "      <th>New deaths</th>\n",
       "      <th>Total recovery</th>\n",
       "      <th>Active cases</th>\n",
       "    </tr>\n",
       "    <tr>\n",
       "      <th>Date</th>\n",
       "      <th></th>\n",
       "      <th></th>\n",
       "      <th></th>\n",
       "      <th></th>\n",
       "      <th></th>\n",
       "      <th></th>\n",
       "    </tr>\n",
       "  </thead>\n",
       "  <tbody>\n",
       "    <tr>\n",
       "      <th>2021-09-04</th>\n",
       "      <td>195052</td>\n",
       "      <td>964</td>\n",
       "      <td>2522</td>\n",
       "      <td>27</td>\n",
       "      <td>182463</td>\n",
       "      <td>10067</td>\n",
       "    </tr>\n",
       "    <tr>\n",
       "      <th>2021-09-05</th>\n",
       "      <td>195511</td>\n",
       "      <td>459</td>\n",
       "      <td>2552</td>\n",
       "      <td>30</td>\n",
       "      <td>184530</td>\n",
       "      <td>8429</td>\n",
       "    </tr>\n",
       "    <tr>\n",
       "      <th>2021-09-06</th>\n",
       "      <td>195890</td>\n",
       "      <td>379</td>\n",
       "      <td>2556</td>\n",
       "      <td>4</td>\n",
       "      <td>184882</td>\n",
       "      <td>8452</td>\n",
       "    </tr>\n",
       "    <tr>\n",
       "      <th>2021-09-07</th>\n",
       "      <td>196487</td>\n",
       "      <td>597</td>\n",
       "      <td>2573</td>\n",
       "      <td>17</td>\n",
       "      <td>185159</td>\n",
       "      <td>8755</td>\n",
       "    </tr>\n",
       "    <tr>\n",
       "      <th>2021-09-08</th>\n",
       "      <td>197046</td>\n",
       "      <td>559</td>\n",
       "      <td>2578</td>\n",
       "      <td>5</td>\n",
       "      <td>185379</td>\n",
       "      <td>9089</td>\n",
       "    </tr>\n",
       "  </tbody>\n",
       "</table>\n",
       "</div>"
      ],
      "text/plain": [
       "            Confirmed cases  New cases  Total deaths  New deaths  \\\n",
       "Date                                                               \n",
       "2021-09-04           195052        964          2522          27   \n",
       "2021-09-05           195511        459          2552          30   \n",
       "2021-09-06           195890        379          2556           4   \n",
       "2021-09-07           196487        597          2573          17   \n",
       "2021-09-08           197046        559          2578           5   \n",
       "\n",
       "            Total recovery  Active cases  \n",
       "Date                                      \n",
       "2021-09-04          182463         10067  \n",
       "2021-09-05          184530          8429  \n",
       "2021-09-06          184882          8452  \n",
       "2021-09-07          185159          8755  \n",
       "2021-09-08          185379          9089  "
      ]
     },
     "execution_count": 12,
     "metadata": {},
     "output_type": "execute_result"
    }
   ],
   "source": [
    "df.tail()"
   ]
  },
  {
   "cell_type": "code",
   "execution_count": 13,
   "metadata": {},
   "outputs": [
    {
     "data": {
      "text/plain": [
       "(19, 6)"
      ]
     },
     "execution_count": 13,
     "metadata": {},
     "output_type": "execute_result"
    }
   ],
   "source": [
    "df.shape"
   ]
  },
  {
   "cell_type": "code",
   "execution_count": 14,
   "metadata": {},
   "outputs": [
    {
     "data": {
      "text/plain": [
       "Confirmed cases    0\n",
       "New cases          0\n",
       "Total deaths       0\n",
       "New deaths         0\n",
       "Total recovery     0\n",
       "Active cases       0\n",
       "dtype: int64"
      ]
     },
     "execution_count": 14,
     "metadata": {},
     "output_type": "execute_result"
    }
   ],
   "source": [
    "#Check if there are missing values. The output shows ther are no missing values\n",
    "df.isnull().sum()"
   ]
  },
  {
   "cell_type": "code",
   "execution_count": null,
   "metadata": {},
   "outputs": [],
   "source": []
  },
  {
   "cell_type": "code",
   "execution_count": null,
   "metadata": {},
   "outputs": [],
   "source": []
  },
  {
   "cell_type": "markdown",
   "metadata": {},
   "source": [
    "## ARIMA"
   ]
  },
  {
   "cell_type": "markdown",
   "metadata": {},
   "source": [
    "### Our focus here is to forecast for New cases, New deaths and Total recovery. So, we will focus on these three variables."
   ]
  },
  {
   "cell_type": "code",
   "execution_count": 15,
   "metadata": {},
   "outputs": [
    {
     "data": {
      "image/png": "[encoded data removed]",
      "text/plain": [
       "<Figure size 432x288 with 1 Axes>"
      ]
     },
     "metadata": {
      "needs_background": "light"
     },
     "output_type": "display_data"
    }
   ],
   "source": [
    "#Plot the variables to observes the trends present in them\n",
    "sns.lineplot(df.index,df['New cases'],color='gold')\n",
    "plt.xlabel('Date')\n",
    "plt.xticks(rotation=35);"
   ]
  },
  {
   "cell_type": "code",
   "execution_count": 16,
   "metadata": {},
   "outputs": [
    {
     "data": {
      "image/png": "[encoded data removed]",
      "text/plain": [
       "<Figure size 432x288 with 1 Axes>"
      ]
     },
     "metadata": {
      "needs_background": "light"
     },
     "output_type": "display_data"
    }
   ],
   "source": [
    "sns.lineplot(df.index,df['New deaths'],color='r')\n",
    "plt.xlabel('Date')\n",
    "plt.xticks(rotation=35);"
   ]
  },
  {
   "cell_type": "code",
   "execution_count": 17,
   "metadata": {},
   "outputs": [
    {
     "data": {
      "image/png": "[encoded data removed]",
      "text/plain": [
       "<Figure size 432x288 with 1 Axes>"
      ]
     },
     "metadata": {
      "needs_background": "light"
     },
     "output_type": "display_data"
    }
   ],
   "source": [
    "sns.lineplot(df.index,df['Total recovery'],color='teal')\n",
    "plt.xlabel('Date')\n",
    "plt.xticks(rotation=35);"
   ]
  },
  {
   "cell_type": "markdown",
   "metadata": {},
   "source": []
  },
  {
   "cell_type": "markdown",
   "metadata": {},
   "source": [
    "## Perform ARIMA model for the variable - New cases"
   ]
  },
  {
   "cell_type": "code",
   "execution_count": 18,
   "metadata": {},
   "outputs": [
    {
     "name": "stdout",
     "output_type": "stream",
     "text": [
      "Performing stepwise search to minimize aic\n",
      " ARIMA(1,2,1)(0,0,0)[0] intercept   : AIC=inf, Time=1.49 sec\n",
      " ARIMA(0,2,0)(0,0,0)[0] intercept   : AIC=258.999, Time=0.05 sec\n",
      " ARIMA(1,2,0)(0,0,0)[0] intercept   : AIC=251.554, Time=0.52 sec\n",
      " ARIMA(0,2,1)(0,0,0)[0] intercept   : AIC=inf, Time=0.59 sec\n",
      " ARIMA(0,2,0)(0,0,0)[0]             : AIC=257.124, Time=0.07 sec\n",
      " ARIMA(2,2,0)(0,0,0)[0] intercept   : AIC=248.599, Time=0.90 sec\n",
      " ARIMA(3,2,0)(0,0,0)[0] intercept   : AIC=249.455, Time=0.94 sec\n",
      " ARIMA(2,2,1)(0,0,0)[0] intercept   : AIC=inf, Time=1.31 sec\n",
      " ARIMA(3,2,1)(0,0,0)[0] intercept   : AIC=inf, Time=1.66 sec\n",
      " ARIMA(2,2,0)(0,0,0)[0]             : AIC=246.854, Time=0.38 sec\n",
      " ARIMA(1,2,0)(0,0,0)[0]             : AIC=249.783, Time=0.22 sec\n",
      " ARIMA(3,2,0)(0,0,0)[0]             : AIC=247.564, Time=0.54 sec\n",
      " ARIMA(2,2,1)(0,0,0)[0]             : AIC=inf, Time=0.55 sec\n",
      " ARIMA(1,2,1)(0,0,0)[0]             : AIC=inf, Time=0.40 sec\n",
      " ARIMA(3,2,1)(0,0,0)[0]             : AIC=inf, Time=0.77 sec\n",
      "\n",
      "Best model:  ARIMA(2,2,0)(0,0,0)[0]          \n",
      "Total fit time: 11.160 seconds\n"
     ]
    }
   ],
   "source": [
    "model_new_cases = auto_arima(df['New cases'],start_p=1,start_q=1,test='adf',max_p=3,max_q=3,m=1,d=None,seasonal=False,trace=True,strat_p=0,D=0,error_action='ignore',supress_warning=True,stepwise=True)"
   ]
  },
  {
   "cell_type": "code",
   "execution_count": 19,
   "metadata": {},
   "outputs": [
    {
     "name": "stdout",
     "output_type": "stream",
     "text": [
      "                               SARIMAX Results                                \n",
      "==============================================================================\n",
      "Dep. Variable:                      y   No. Observations:                   19\n",
      "Model:               SARIMAX(2, 2, 0)   Log Likelihood                -120.427\n",
      "Date:                Tue, 14 Sep 2021   AIC                            246.854\n",
      "Time:                        17:16:04   BIC                            249.354\n",
      "Sample:                             0   HQIC                           247.103\n",
      "                                 - 19                                         \n",
      "Covariance Type:                  opg                                         \n",
      "==============================================================================\n",
      "                 coef    std err          z      P>|z|      [0.025      0.975]\n",
      "------------------------------------------------------------------------------\n",
      "ar.L1         -1.0586      0.236     -4.482      0.000      -1.522      -0.596\n",
      "ar.L2         -0.5430      0.243     -2.235      0.025      -1.019      -0.067\n",
      "sigma2      8.545e+04   5.23e+04      1.635      0.102    -1.7e+04    1.88e+05\n",
      "===================================================================================\n",
      "Ljung-Box (L1) (Q):                   0.08   Jarque-Bera (JB):                 1.23\n",
      "Prob(Q):                              0.78   Prob(JB):                         0.54\n",
      "Heteroskedasticity (H):               1.64   Skew:                            -0.13\n",
      "Prob(H) (two-sided):                  0.56   Kurtosis:                         1.71\n",
      "===================================================================================\n",
      "\n",
      "Warnings:\n",
      "[1] Covariance matrix calculated using the outer product of gradients (complex-step).\n"
     ]
    }
   ],
   "source": [
    "print(model_new_cases.summary())"
   ]
  },
  {
   "cell_type": "code",
   "execution_count": 20,
   "metadata": {},
   "outputs": [
    {
     "data": {
      "image/png": "[encoded data removed]",
      "text/plain": [
       "<Figure size 576x432 with 4 Axes>"
      ]
     },
     "metadata": {
      "needs_background": "light"
     },
     "output_type": "display_data"
    }
   ],
   "source": [
    "#Diagnostic plot for the new cases ARIMA model conducted\n",
    "model_new_cases.plot_diagnostics(figsize=(8,6))\n",
    "plt.show()"
   ]
  },
  {
   "cell_type": "code",
   "execution_count": 37,
   "metadata": {},
   "outputs": [],
   "source": []
  },
  {
   "cell_type": "code",
   "execution_count": 33,
   "metadata": {},
   "outputs": [],
   "source": [
    "#Forecast the new cases for the next 7 days\n",
    "n_periods=7\n",
    "forecast_new_cases= model_new_cases.predict(n_periods)\n",
    "forecast_new_cases= pd.DataFrame(forecast_new_cases,columns=['New_cases_prediction'])"
   ]
  },
  {
   "cell_type": "code",
   "execution_count": 48,
   "metadata": {},
   "outputs": [],
   "source": [
    "date= ['2021-09-09','2021-09-10','2021-09-11','2021-09-12','2021-09-13','2021-09-14','2021-09-15']"
   ]
  },
  {
   "cell_type": "code",
   "execution_count": 49,
   "metadata": {},
   "outputs": [],
   "source": [
    "forecast_new_cases['Date']=date"
   ]
  },
  {
   "cell_type": "code",
   "execution_count": 55,
   "metadata": {},
   "outputs": [],
   "source": [
    "forecast_new_cases = forecast_new_cases[['Date','New_cases_prediction']]"
   ]
  },
  {
   "cell_type": "code",
   "execution_count": 56,
   "metadata": {},
   "outputs": [
    {
     "data": {
      "text/html": [
       "<div>\n",
       "<style scoped>\n",
       "    .dataframe tbody tr th:only-of-type {\n",
       "        vertical-align: middle;\n",
       "    }\n",
       "\n",
       "    .dataframe tbody tr th {\n",
       "        vertical-align: top;\n",
       "    }\n",
       "\n",
       "    .dataframe thead th {\n",
       "        text-align: right;\n",
       "    }\n",
       "</style>\n",
       "<table border=\"1\" class=\"dataframe\">\n",
       "  <thead>\n",
       "    <tr style=\"text-align: right;\">\n",
       "      <th></th>\n",
       "      <th>Date</th>\n",
       "      <th>New_cases_prediction</th>\n",
       "    </tr>\n",
       "  </thead>\n",
       "  <tbody>\n",
       "    <tr>\n",
       "      <th>0</th>\n",
       "      <td>2021-09-09</td>\n",
       "      <td>630.193754</td>\n",
       "    </tr>\n",
       "    <tr>\n",
       "      <th>1</th>\n",
       "      <td>2021-09-10</td>\n",
       "      <td>724.803061</td>\n",
       "    </tr>\n",
       "    <tr>\n",
       "      <th>2</th>\n",
       "      <td>2021-09-11</td>\n",
       "      <td>735.329049</td>\n",
       "    </tr>\n",
       "    <tr>\n",
       "      <th>3</th>\n",
       "      <td>2021-09-12</td>\n",
       "      <td>822.154566</td>\n",
       "    </tr>\n",
       "    <tr>\n",
       "      <th>4</th>\n",
       "      <td>2021-09-13</td>\n",
       "      <td>873.864711</td>\n",
       "    </tr>\n",
       "    <tr>\n",
       "      <th>5</th>\n",
       "      <td>2021-09-14</td>\n",
       "      <td>921.317451</td>\n",
       "    </tr>\n",
       "    <tr>\n",
       "      <th>6</th>\n",
       "      <td>2021-09-15</td>\n",
       "      <td>992.345663</td>\n",
       "    </tr>\n",
       "  </tbody>\n",
       "</table>\n",
       "</div>"
      ],
      "text/plain": [
       "         Date  New_cases_prediction\n",
       "0  2021-09-09            630.193754\n",
       "1  2021-09-10            724.803061\n",
       "2  2021-09-11            735.329049\n",
       "3  2021-09-12            822.154566\n",
       "4  2021-09-13            873.864711\n",
       "5  2021-09-14            921.317451\n",
       "6  2021-09-15            992.345663"
      ]
     },
     "execution_count": 56,
     "metadata": {},
     "output_type": "execute_result"
    }
   ],
   "source": [
    "forecast_new_cases"
   ]
  },
  {
   "cell_type": "markdown",
   "metadata": {},
   "source": [
    "## Perform ARIMA model for the variable - New deaths"
   ]
  },
  {
   "cell_type": "code",
   "execution_count": 60,
   "metadata": {},
   "outputs": [
    {
     "name": "stdout",
     "output_type": "stream",
     "text": [
      "Performing stepwise search to minimize aic\n",
      " ARIMA(1,2,1)(0,0,0)[0] intercept   : AIC=inf, Time=4.02 sec\n",
      " ARIMA(0,2,0)(0,0,0)[0] intercept   : AIC=181.633, Time=0.27 sec\n",
      " ARIMA(1,2,0)(0,0,0)[0] intercept   : AIC=178.798, Time=0.52 sec\n",
      " ARIMA(0,2,1)(0,0,0)[0] intercept   : AIC=inf, Time=0.46 sec\n",
      " ARIMA(0,2,0)(0,0,0)[0]             : AIC=179.635, Time=0.12 sec\n",
      " ARIMA(2,2,0)(0,0,0)[0] intercept   : AIC=176.053, Time=0.68 sec\n",
      " ARIMA(3,2,0)(0,0,0)[0] intercept   : AIC=176.466, Time=1.18 sec\n",
      " ARIMA(2,2,1)(0,0,0)[0] intercept   : AIC=inf, Time=1.08 sec\n",
      " ARIMA(3,2,1)(0,0,0)[0] intercept   : AIC=inf, Time=1.16 sec\n",
      " ARIMA(2,2,0)(0,0,0)[0]             : AIC=174.057, Time=0.47 sec\n",
      " ARIMA(1,2,0)(0,0,0)[0]             : AIC=176.798, Time=0.37 sec\n",
      " ARIMA(3,2,0)(0,0,0)[0]             : AIC=174.474, Time=0.75 sec\n",
      " ARIMA(2,2,1)(0,0,0)[0]             : AIC=inf, Time=0.80 sec\n",
      " ARIMA(1,2,1)(0,0,0)[0]             : AIC=inf, Time=0.82 sec\n",
      " ARIMA(3,2,1)(0,0,0)[0]             : AIC=inf, Time=0.68 sec\n",
      "\n",
      "Best model:  ARIMA(2,2,0)(0,0,0)[0]          \n",
      "Total fit time: 17.147 seconds\n"
     ]
    }
   ],
   "source": [
    "model_new_deaths = auto_arima(df['New deaths'],start_p=1,start_q=1,test='adf',max_p=3,max_q=3,m=1,d=None,seasonal=False,trace=True,strat_p=0,D=0,error_action='ignore',supress_warning=True,stepwise=True)"
   ]
  },
  {
   "cell_type": "code",
   "execution_count": 61,
   "metadata": {},
   "outputs": [
    {
     "name": "stdout",
     "output_type": "stream",
     "text": [
      "                               SARIMAX Results                                \n",
      "==============================================================================\n",
      "Dep. Variable:                      y   No. Observations:                   19\n",
      "Model:               SARIMAX(2, 2, 0)   Log Likelihood                 -84.028\n",
      "Date:                Wed, 15 Sep 2021   AIC                            174.057\n",
      "Time:                        02:21:25   BIC                            176.556\n",
      "Sample:                             0   HQIC                           174.305\n",
      "                                 - 19                                         \n",
      "Covariance Type:                  opg                                         \n",
      "==============================================================================\n",
      "                 coef    std err          z      P>|z|      [0.025      0.975]\n",
      "------------------------------------------------------------------------------\n",
      "ar.L1         -0.7315      0.635     -1.152      0.249      -1.976       0.513\n",
      "ar.L2         -0.4756      0.265     -1.795      0.073      -0.995       0.044\n",
      "sigma2      1097.9937    285.603      3.844      0.000     538.222    1657.765\n",
      "===================================================================================\n",
      "Ljung-Box (L1) (Q):                   0.74   Jarque-Bera (JB):                33.74\n",
      "Prob(Q):                              0.39   Prob(JB):                         0.00\n",
      "Heteroskedasticity (H):               0.98   Skew:                            -2.14\n",
      "Prob(H) (two-sided):                  0.98   Kurtosis:                         8.41\n",
      "===================================================================================\n",
      "\n",
      "Warnings:\n",
      "[1] Covariance matrix calculated using the outer product of gradients (complex-step).\n"
     ]
    }
   ],
   "source": [
    "print(model_new_deaths.summary())"
   ]
  },
  {
   "cell_type": "code",
   "execution_count": 62,
   "metadata": {},
   "outputs": [
    {
     "data": {
      "image/png": "[encoded data removed]",
      "text/plain": [
       "<Figure size 576x432 with 4 Axes>"
      ]
     },
     "metadata": {
      "needs_background": "light"
     },
     "output_type": "display_data"
    }
   ],
   "source": [
    "#Diagnostic plot for the new deaths ARIMA model conducted\n",
    "model_new_deaths.plot_diagnostics(figsize=(8,6))\n",
    "plt.show()"
   ]
  },
  {
   "cell_type": "code",
   "execution_count": 70,
   "metadata": {},
   "outputs": [],
   "source": [
    "#Forecast the new deaths for the next 7 days\n",
    "n_periods=7\n",
    "forecast_new_deaths= model_new_deaths.predict(n_periods=n_periods)\n",
    "forecast_new_deaths= pd.DataFrame(forecast_new_deaths,columns=['New_deaths_prediction'])"
   ]
  },
  {
   "cell_type": "code",
   "execution_count": 71,
   "metadata": {},
   "outputs": [],
   "source": [
    "date= ['2021-09-09','2021-09-10','2021-09-11','2021-09-12','2021-09-13','2021-09-14','2021-09-15']"
   ]
  },
  {
   "cell_type": "code",
   "execution_count": 72,
   "metadata": {},
   "outputs": [],
   "source": [
    "forecast_new_deaths['Date']=date"
   ]
  },
  {
   "cell_type": "code",
   "execution_count": 73,
   "metadata": {},
   "outputs": [],
   "source": [
    "forecast_new_deaths = forecast_new_deaths[['Date','New_deaths_prediction']]"
   ]
  },
  {
   "cell_type": "code",
   "execution_count": 74,
   "metadata": {},
   "outputs": [
    {
     "data": {
      "text/html": [
       "<div>\n",
       "<style scoped>\n",
       "    .dataframe tbody tr th:only-of-type {\n",
       "        vertical-align: middle;\n",
       "    }\n",
       "\n",
       "    .dataframe tbody tr th {\n",
       "        vertical-align: top;\n",
       "    }\n",
       "\n",
       "    .dataframe thead th {\n",
       "        text-align: right;\n",
       "    }\n",
       "</style>\n",
       "<table border=\"1\" class=\"dataframe\">\n",
       "  <thead>\n",
       "    <tr style=\"text-align: right;\">\n",
       "      <th></th>\n",
       "      <th>Date</th>\n",
       "      <th>New_deaths_prediction</th>\n",
       "    </tr>\n",
       "  </thead>\n",
       "  <tbody>\n",
       "    <tr>\n",
       "      <th>0</th>\n",
       "      <td>2021-09-09</td>\n",
       "      <td>-7.260488</td>\n",
       "    </tr>\n",
       "    <tr>\n",
       "      <th>1</th>\n",
       "      <td>2021-09-10</td>\n",
       "      <td>-7.440471</td>\n",
       "    </tr>\n",
       "    <tr>\n",
       "      <th>2</th>\n",
       "      <td>2021-09-11</td>\n",
       "      <td>-16.333621</td>\n",
       "    </tr>\n",
       "    <tr>\n",
       "      <th>3</th>\n",
       "      <td>2021-09-12</td>\n",
       "      <td>-24.598436</td>\n",
       "    </tr>\n",
       "    <tr>\n",
       "      <th>4</th>\n",
       "      <td>2021-09-13</td>\n",
       "      <td>-29.178921</td>\n",
       "    </tr>\n",
       "    <tr>\n",
       "      <th>5</th>\n",
       "      <td>2021-09-14</td>\n",
       "      <td>-36.753378</td>\n",
       "    </tr>\n",
       "    <tr>\n",
       "      <th>6</th>\n",
       "      <td>2021-09-15</td>\n",
       "      <td>-43.889965</td>\n",
       "    </tr>\n",
       "  </tbody>\n",
       "</table>\n",
       "</div>"
      ],
      "text/plain": [
       "         Date  New_deaths_prediction\n",
       "0  2021-09-09              -7.260488\n",
       "1  2021-09-10              -7.440471\n",
       "2  2021-09-11             -16.333621\n",
       "3  2021-09-12             -24.598436\n",
       "4  2021-09-13             -29.178921\n",
       "5  2021-09-14             -36.753378\n",
       "6  2021-09-15             -43.889965"
      ]
     },
     "execution_count": 74,
     "metadata": {},
     "output_type": "execute_result"
    }
   ],
   "source": [
    "forecast_new_deaths"
   ]
  },
  {
   "cell_type": "markdown",
   "metadata": {},
   "source": []
  },
  {
   "cell_type": "markdown",
   "metadata": {},
   "source": [
    "## Perform ARIMA model for the variable - Total recovery"
   ]
  },
  {
   "cell_type": "code",
   "execution_count": 77,
   "metadata": {},
   "outputs": [
    {
     "name": "stdout",
     "output_type": "stream",
     "text": [
      "Performing stepwise search to minimize aic\n",
      " ARIMA(1,2,1)(0,0,0)[0] intercept   : AIC=326.746, Time=0.76 sec\n",
      " ARIMA(0,2,0)(0,0,0)[0] intercept   : AIC=322.702, Time=0.05 sec\n",
      " ARIMA(1,2,0)(0,0,0)[0] intercept   : AIC=324.947, Time=0.14 sec\n",
      " ARIMA(0,2,1)(0,0,0)[0] intercept   : AIC=324.838, Time=0.19 sec\n",
      " ARIMA(0,2,0)(0,0,0)[0]             : AIC=320.703, Time=0.08 sec\n",
      "\n",
      "Best model:  ARIMA(0,2,0)(0,0,0)[0]          \n",
      "Total fit time: 1.331 seconds\n"
     ]
    }
   ],
   "source": [
    "model_total_recovery = auto_arima(df['Total recovery'],start_p=1,start_q=1,test='adf',max_p=3,max_q=3,m=1,d=None,seasonal=False,trace=True,strat_p=0,D=0,error_action='ignore',supress_warning=True,stepwise=True)"
   ]
  },
  {
   "cell_type": "code",
   "execution_count": 78,
   "metadata": {},
   "outputs": [
    {
     "name": "stdout",
     "output_type": "stream",
     "text": [
      "                               SARIMAX Results                                \n",
      "==============================================================================\n",
      "Dep. Variable:                      y   No. Observations:                   19\n",
      "Model:               SARIMAX(0, 2, 0)   Log Likelihood                -159.352\n",
      "Date:                Wed, 15 Sep 2021   AIC                            320.703\n",
      "Time:                        02:24:37   BIC                            321.536\n",
      "Sample:                             0   HQIC                           320.786\n",
      "                                 - 19                                         \n",
      "Covariance Type:                  opg                                         \n",
      "==============================================================================\n",
      "                 coef    std err          z      P>|z|      [0.025      0.975]\n",
      "------------------------------------------------------------------------------\n",
      "sigma2       8.02e+06   1.52e+06      5.288      0.000    5.05e+06     1.1e+07\n",
      "===================================================================================\n",
      "Ljung-Box (L1) (Q):                   4.44   Jarque-Bera (JB):                13.88\n",
      "Prob(Q):                              0.04   Prob(JB):                         0.00\n",
      "Heteroskedasticity (H):               0.14   Skew:                             0.04\n",
      "Prob(H) (two-sided):                  0.03   Kurtosis:                         7.43\n",
      "===================================================================================\n",
      "\n",
      "Warnings:\n",
      "[1] Covariance matrix calculated using the outer product of gradients (complex-step).\n"
     ]
    }
   ],
   "source": [
    "print(model_total_recovery.summary())"
   ]
  },
  {
   "cell_type": "code",
   "execution_count": 79,
   "metadata": {},
   "outputs": [
    {
     "data": {
      "image/png": "[encoded data removed]",
      "text/plain": [
       "<Figure size 576x432 with 4 Axes>"
      ]
     },
     "metadata": {
      "needs_background": "light"
     },
     "output_type": "display_data"
    }
   ],
   "source": [
    "#Diagnostic plot for the total recovery ARIMA model conducted\n",
    "model_total_recovery.plot_diagnostics(figsize=(8,6))\n",
    "plt.show()"
   ]
  },
  {
   "cell_type": "code",
   "execution_count": 80,
   "metadata": {},
   "outputs": [],
   "source": [
    "#Forecast the total recovery for the next 7 days\n",
    "n_periods=7\n",
    "forecast_total_recovery= model_total_recovery.predict(n_periods=n_periods)\n",
    "forecast_total_recovery= pd.DataFrame(forecast_total_recovery,columns=['Total_recovery_prediction'])"
   ]
  },
  {
   "cell_type": "code",
   "execution_count": 82,
   "metadata": {},
   "outputs": [],
   "source": [
    "date= ['2021-09-09','2021-09-10','2021-09-11','2021-09-12','2021-09-13','2021-09-14','2021-09-15']"
   ]
  },
  {
   "cell_type": "code",
   "execution_count": 85,
   "metadata": {},
   "outputs": [],
   "source": [
    "forecast_total_recovery['Date']=date"
   ]
  },
  {
   "cell_type": "code",
   "execution_count": 87,
   "metadata": {},
   "outputs": [],
   "source": [
    "forecast_total_recovery = forecast_total_recovery[['Date','Total_recovery_prediction']]"
   ]
  },
  {
   "cell_type": "code",
   "execution_count": 88,
   "metadata": {},
   "outputs": [
    {
     "data": {
      "text/html": [
       "<div>\n",
       "<style scoped>\n",
       "    .dataframe tbody tr th:only-of-type {\n",
       "        vertical-align: middle;\n",
       "    }\n",
       "\n",
       "    .dataframe tbody tr th {\n",
       "        vertical-align: top;\n",
       "    }\n",
       "\n",
       "    .dataframe thead th {\n",
       "        text-align: right;\n",
       "    }\n",
       "</style>\n",
       "<table border=\"1\" class=\"dataframe\">\n",
       "  <thead>\n",
       "    <tr style=\"text-align: right;\">\n",
       "      <th></th>\n",
       "      <th>Date</th>\n",
       "      <th>Total_recovery_prediction</th>\n",
       "    </tr>\n",
       "  </thead>\n",
       "  <tbody>\n",
       "    <tr>\n",
       "      <th>0</th>\n",
       "      <td>2021-09-09</td>\n",
       "      <td>185599.0</td>\n",
       "    </tr>\n",
       "    <tr>\n",
       "      <th>1</th>\n",
       "      <td>2021-09-10</td>\n",
       "      <td>185819.0</td>\n",
       "    </tr>\n",
       "    <tr>\n",
       "      <th>2</th>\n",
       "      <td>2021-09-11</td>\n",
       "      <td>186039.0</td>\n",
       "    </tr>\n",
       "    <tr>\n",
       "      <th>3</th>\n",
       "      <td>2021-09-12</td>\n",
       "      <td>186259.0</td>\n",
       "    </tr>\n",
       "    <tr>\n",
       "      <th>4</th>\n",
       "      <td>2021-09-13</td>\n",
       "      <td>186479.0</td>\n",
       "    </tr>\n",
       "    <tr>\n",
       "      <th>5</th>\n",
       "      <td>2021-09-14</td>\n",
       "      <td>186699.0</td>\n",
       "    </tr>\n",
       "    <tr>\n",
       "      <th>6</th>\n",
       "      <td>2021-09-15</td>\n",
       "      <td>186919.0</td>\n",
       "    </tr>\n",
       "  </tbody>\n",
       "</table>\n",
       "</div>"
      ],
      "text/plain": [
       "         Date  Total_recovery_prediction\n",
       "0  2021-09-09                   185599.0\n",
       "1  2021-09-10                   185819.0\n",
       "2  2021-09-11                   186039.0\n",
       "3  2021-09-12                   186259.0\n",
       "4  2021-09-13                   186479.0\n",
       "5  2021-09-14                   186699.0\n",
       "6  2021-09-15                   186919.0"
      ]
     },
     "execution_count": 88,
     "metadata": {},
     "output_type": "execute_result"
    }
   ],
   "source": [
    "forecast_total_recovery"
   ]
  },
  {
   "cell_type": "markdown",
   "metadata": {},
   "source": [
    "## SARIMA"
   ]
  },
  {
   "cell_type": "markdown",
   "metadata": {},
   "source": [
    "## Perform SARIMA model for the variable - New cases"
   ]
  },
  {
   "cell_type": "code",
   "execution_count": 142,
   "metadata": {},
   "outputs": [
    {
     "name": "stdout",
     "output_type": "stream",
     "text": [
      "Performing stepwise search to minimize aic\n",
      " ARIMA(1,2,1)(0,0,0)[0]             : AIC=inf, Time=0.52 sec\n",
      " ARIMA(0,2,0)(0,0,0)[0]             : AIC=257.124, Time=0.06 sec\n",
      " ARIMA(1,2,0)(0,0,0)[0]             : AIC=249.783, Time=0.26 sec\n",
      " ARIMA(0,2,1)(0,0,0)[0]             : AIC=inf, Time=0.21 sec\n",
      " ARIMA(2,2,0)(0,0,0)[0]             : AIC=246.854, Time=0.55 sec\n",
      " ARIMA(3,2,0)(0,0,0)[0]             : AIC=247.564, Time=0.59 sec\n",
      " ARIMA(2,2,1)(0,0,0)[0]             : AIC=inf, Time=0.67 sec\n",
      " ARIMA(3,2,1)(0,0,0)[0]             : AIC=inf, Time=0.67 sec\n",
      " ARIMA(2,2,0)(0,0,0)[0] intercept   : AIC=248.599, Time=0.78 sec\n",
      "\n",
      "Best model:  ARIMA(2,2,0)(0,0,0)[0]          \n",
      "Total fit time: 4.416 seconds\n"
     ]
    }
   ],
   "source": [
    "smodel_new_cases = auto_arima(df['New cases'],start_p=1,start_q=1,test='adf',max_p=3,max_q=3,m=1,d=None,seasonal=True,trace=True,strat_p=0,D=0,error_action='ignore',supress_warning=True,stepwise=True)"
   ]
  },
  {
   "cell_type": "code",
   "execution_count": 143,
   "metadata": {},
   "outputs": [
    {
     "name": "stdout",
     "output_type": "stream",
     "text": [
      "                               SARIMAX Results                                \n",
      "==============================================================================\n",
      "Dep. Variable:                      y   No. Observations:                   19\n",
      "Model:               SARIMAX(2, 2, 0)   Log Likelihood                -120.427\n",
      "Date:                Tue, 14 Sep 2021   AIC                            246.854\n",
      "Time:                        15:11:11   BIC                            249.354\n",
      "Sample:                             0   HQIC                           247.103\n",
      "                                 - 19                                         \n",
      "Covariance Type:                  opg                                         \n",
      "==============================================================================\n",
      "                 coef    std err          z      P>|z|      [0.025      0.975]\n",
      "------------------------------------------------------------------------------\n",
      "ar.L1         -1.0586      0.236     -4.482      0.000      -1.522      -0.596\n",
      "ar.L2         -0.5430      0.243     -2.235      0.025      -1.019      -0.067\n",
      "sigma2      8.545e+04   5.23e+04      1.635      0.102    -1.7e+04    1.88e+05\n",
      "===================================================================================\n",
      "Ljung-Box (L1) (Q):                   0.08   Jarque-Bera (JB):                 1.23\n",
      "Prob(Q):                              0.78   Prob(JB):                         0.54\n",
      "Heteroskedasticity (H):               1.64   Skew:                            -0.13\n",
      "Prob(H) (two-sided):                  0.56   Kurtosis:                         1.71\n",
      "===================================================================================\n",
      "\n",
      "Warnings:\n",
      "[1] Covariance matrix calculated using the outer product of gradients (complex-step).\n"
     ]
    }
   ],
   "source": [
    "print(smodel_new_cases.summary())"
   ]
  },
  {
   "cell_type": "code",
   "execution_count": 144,
   "metadata": {},
   "outputs": [
    {
     "data": {
      "image/png": "[encoded data removed]",
      "text/plain": [
       "<Figure size 576x432 with 4 Axes>"
      ]
     },
     "metadata": {
      "needs_background": "light"
     },
     "output_type": "display_data"
    }
   ],
   "source": [
    "#Diagnostic plot for the new cases SARIMA model conducted\n",
    "smodel_new_cases.plot_diagnostics(figsize=(8,6))\n",
    "plt.show()"
   ]
  },
  {
   "cell_type": "code",
   "execution_count": 145,
   "metadata": {},
   "outputs": [],
   "source": [
    "#Forecast the new cases for the next 7 days\n",
    "n_periods=7\n",
    "forecast_new_cases= smodel_new_cases.predict(n_periods=n_periods)\n",
    "forecast_new_cases= pd.DataFrame(forecast_new_cases,columns=['New_cases_prediction'])"
   ]
  },
  {
   "cell_type": "code",
   "execution_count": 99,
   "metadata": {},
   "outputs": [],
   "source": [
    "date= ['2021-09-09','2021-09-10','2021-09-11','2021-09-12','2021-09-13','2021-09-14','2021-09-15']"
   ]
  },
  {
   "cell_type": "code",
   "execution_count": 100,
   "metadata": {},
   "outputs": [],
   "source": [
    "forecast_new_cases['Date']=date"
   ]
  },
  {
   "cell_type": "code",
   "execution_count": 101,
   "metadata": {},
   "outputs": [],
   "source": [
    "forecast_new_cases = forecast_new_cases[['Date','New_cases_prediction']]"
   ]
  },
  {
   "cell_type": "code",
   "execution_count": 102,
   "metadata": {},
   "outputs": [
    {
     "data": {
      "text/html": [
       "<div>\n",
       "<style scoped>\n",
       "    .dataframe tbody tr th:only-of-type {\n",
       "        vertical-align: middle;\n",
       "    }\n",
       "\n",
       "    .dataframe tbody tr th {\n",
       "        vertical-align: top;\n",
       "    }\n",
       "\n",
       "    .dataframe thead th {\n",
       "        text-align: right;\n",
       "    }\n",
       "</style>\n",
       "<table border=\"1\" class=\"dataframe\">\n",
       "  <thead>\n",
       "    <tr style=\"text-align: right;\">\n",
       "      <th></th>\n",
       "      <th>Date</th>\n",
       "      <th>New_cases_prediction</th>\n",
       "    </tr>\n",
       "  </thead>\n",
       "  <tbody>\n",
       "    <tr>\n",
       "      <th>0</th>\n",
       "      <td>2021-09-09</td>\n",
       "      <td>630.193754</td>\n",
       "    </tr>\n",
       "    <tr>\n",
       "      <th>1</th>\n",
       "      <td>2021-09-10</td>\n",
       "      <td>724.803061</td>\n",
       "    </tr>\n",
       "    <tr>\n",
       "      <th>2</th>\n",
       "      <td>2021-09-11</td>\n",
       "      <td>735.329049</td>\n",
       "    </tr>\n",
       "    <tr>\n",
       "      <th>3</th>\n",
       "      <td>2021-09-12</td>\n",
       "      <td>822.154566</td>\n",
       "    </tr>\n",
       "    <tr>\n",
       "      <th>4</th>\n",
       "      <td>2021-09-13</td>\n",
       "      <td>873.864711</td>\n",
       "    </tr>\n",
       "    <tr>\n",
       "      <th>5</th>\n",
       "      <td>2021-09-14</td>\n",
       "      <td>921.317451</td>\n",
       "    </tr>\n",
       "    <tr>\n",
       "      <th>6</th>\n",
       "      <td>2021-09-15</td>\n",
       "      <td>992.345663</td>\n",
       "    </tr>\n",
       "  </tbody>\n",
       "</table>\n",
       "</div>"
      ],
      "text/plain": [
       "         Date  New_cases_prediction\n",
       "0  2021-09-09            630.193754\n",
       "1  2021-09-10            724.803061\n",
       "2  2021-09-11            735.329049\n",
       "3  2021-09-12            822.154566\n",
       "4  2021-09-13            873.864711\n",
       "5  2021-09-14            921.317451\n",
       "6  2021-09-15            992.345663"
      ]
     },
     "execution_count": 102,
     "metadata": {},
     "output_type": "execute_result"
    }
   ],
   "source": [
    "forecast_new_cases"
   ]
  },
  {
   "cell_type": "markdown",
   "metadata": {},
   "source": [
    "## Perform SARIMA model for the variable - New deaths"
   ]
  },
  {
   "cell_type": "code",
   "execution_count": 89,
   "metadata": {},
   "outputs": [
    {
     "name": "stdout",
     "output_type": "stream",
     "text": [
      "Performing stepwise search to minimize aic\n",
      " ARIMA(1,2,1)(0,0,0)[0]             : AIC=inf, Time=0.81 sec\n",
      " ARIMA(0,2,0)(0,0,0)[0]             : AIC=179.635, Time=0.06 sec\n",
      " ARIMA(1,2,0)(0,0,0)[0]             : AIC=176.798, Time=0.19 sec\n",
      " ARIMA(0,2,1)(0,0,0)[0]             : AIC=inf, Time=0.32 sec\n",
      " ARIMA(2,2,0)(0,0,0)[0]             : AIC=174.057, Time=0.38 sec\n",
      " ARIMA(3,2,0)(0,0,0)[0]             : AIC=174.474, Time=0.58 sec\n",
      " ARIMA(2,2,1)(0,0,0)[0]             : AIC=inf, Time=0.73 sec\n",
      " ARIMA(3,2,1)(0,0,0)[0]             : AIC=inf, Time=1.10 sec\n",
      " ARIMA(2,2,0)(0,0,0)[0] intercept   : AIC=176.053, Time=0.53 sec\n",
      "\n",
      "Best model:  ARIMA(2,2,0)(0,0,0)[0]          \n",
      "Total fit time: 4.833 seconds\n"
     ]
    }
   ],
   "source": [
    "smodel_new_deaths = auto_arima(df['New deaths'],start_p=1,start_q=1,test='adf',max_p=3,max_q=3,m=1,d=None,seasonal=True,trace=True,strat_p=0,D=0,error_action='ignore',supress_warning=True,stepwise=True)"
   ]
  },
  {
   "cell_type": "code",
   "execution_count": 90,
   "metadata": {},
   "outputs": [
    {
     "name": "stdout",
     "output_type": "stream",
     "text": [
      "                               SARIMAX Results                                \n",
      "==============================================================================\n",
      "Dep. Variable:                      y   No. Observations:                   19\n",
      "Model:               SARIMAX(2, 2, 0)   Log Likelihood                 -84.028\n",
      "Date:                Wed, 15 Sep 2021   AIC                            174.057\n",
      "Time:                        02:28:33   BIC                            176.556\n",
      "Sample:                             0   HQIC                           174.305\n",
      "                                 - 19                                         \n",
      "Covariance Type:                  opg                                         \n",
      "==============================================================================\n",
      "                 coef    std err          z      P>|z|      [0.025      0.975]\n",
      "------------------------------------------------------------------------------\n",
      "ar.L1         -0.7315      0.635     -1.152      0.249      -1.976       0.513\n",
      "ar.L2         -0.4756      0.265     -1.795      0.073      -0.995       0.044\n",
      "sigma2      1097.9937    285.603      3.844      0.000     538.222    1657.765\n",
      "===================================================================================\n",
      "Ljung-Box (L1) (Q):                   0.74   Jarque-Bera (JB):                33.74\n",
      "Prob(Q):                              0.39   Prob(JB):                         0.00\n",
      "Heteroskedasticity (H):               0.98   Skew:                            -2.14\n",
      "Prob(H) (two-sided):                  0.98   Kurtosis:                         8.41\n",
      "===================================================================================\n",
      "\n",
      "Warnings:\n",
      "[1] Covariance matrix calculated using the outer product of gradients (complex-step).\n"
     ]
    }
   ],
   "source": [
    "print(smodel_new_deaths.summary())"
   ]
  },
  {
   "cell_type": "code",
   "execution_count": 91,
   "metadata": {},
   "outputs": [
    {
     "data": {
      "image/png": "[encoded data removed]",
      "text/plain": [
       "<Figure size 576x432 with 4 Axes>"
      ]
     },
     "metadata": {
      "needs_background": "light"
     },
     "output_type": "display_data"
    }
   ],
   "source": [
    "#Diagnostic plot for the new deaths SARIMA model conducted\n",
    "smodel_new_deaths.plot_diagnostics(figsize=(8,6))\n",
    "plt.show()"
   ]
  },
  {
   "cell_type": "code",
   "execution_count": 94,
   "metadata": {},
   "outputs": [],
   "source": [
    "#Forecast the new deaths for the next 7 days\n",
    "n_periods=7\n",
    "forecast_new_deaths= smodel_new_deaths.predict(n_periods=n_periods)\n",
    "forecast_new_deaths= pd.DataFrame(forecast_new_deaths,columns=['New_deaths_prediction'])"
   ]
  },
  {
   "cell_type": "code",
   "execution_count": 95,
   "metadata": {},
   "outputs": [],
   "source": [
    "date= ['2021-09-09','2021-09-10','2021-09-11','2021-09-12','2021-09-13','2021-09-14','2021-09-15']"
   ]
  },
  {
   "cell_type": "code",
   "execution_count": 96,
   "metadata": {},
   "outputs": [],
   "source": [
    "forecast_new_deaths['Date']=date"
   ]
  },
  {
   "cell_type": "code",
   "execution_count": 97,
   "metadata": {},
   "outputs": [],
   "source": [
    "forecast_new_deaths = forecast_new_deaths[['Date','New_deaths_prediction']]"
   ]
  },
  {
   "cell_type": "code",
   "execution_count": 98,
   "metadata": {},
   "outputs": [
    {
     "data": {
      "text/html": [
       "<div>\n",
       "<style scoped>\n",
       "    .dataframe tbody tr th:only-of-type {\n",
       "        vertical-align: middle;\n",
       "    }\n",
       "\n",
       "    .dataframe tbody tr th {\n",
       "        vertical-align: top;\n",
       "    }\n",
       "\n",
       "    .dataframe thead th {\n",
       "        text-align: right;\n",
       "    }\n",
       "</style>\n",
       "<table border=\"1\" class=\"dataframe\">\n",
       "  <thead>\n",
       "    <tr style=\"text-align: right;\">\n",
       "      <th></th>\n",
       "      <th>Date</th>\n",
       "      <th>New_deaths_prediction</th>\n",
       "    </tr>\n",
       "  </thead>\n",
       "  <tbody>\n",
       "    <tr>\n",
       "      <th>0</th>\n",
       "      <td>2021-09-09</td>\n",
       "      <td>-7.260488</td>\n",
       "    </tr>\n",
       "    <tr>\n",
       "      <th>1</th>\n",
       "      <td>2021-09-10</td>\n",
       "      <td>-7.440471</td>\n",
       "    </tr>\n",
       "    <tr>\n",
       "      <th>2</th>\n",
       "      <td>2021-09-11</td>\n",
       "      <td>-16.333621</td>\n",
       "    </tr>\n",
       "    <tr>\n",
       "      <th>3</th>\n",
       "      <td>2021-09-12</td>\n",
       "      <td>-24.598436</td>\n",
       "    </tr>\n",
       "    <tr>\n",
       "      <th>4</th>\n",
       "      <td>2021-09-13</td>\n",
       "      <td>-29.178921</td>\n",
       "    </tr>\n",
       "    <tr>\n",
       "      <th>5</th>\n",
       "      <td>2021-09-14</td>\n",
       "      <td>-36.753378</td>\n",
       "    </tr>\n",
       "    <tr>\n",
       "      <th>6</th>\n",
       "      <td>2021-09-15</td>\n",
       "      <td>-43.889965</td>\n",
       "    </tr>\n",
       "  </tbody>\n",
       "</table>\n",
       "</div>"
      ],
      "text/plain": [
       "         Date  New_deaths_prediction\n",
       "0  2021-09-09              -7.260488\n",
       "1  2021-09-10              -7.440471\n",
       "2  2021-09-11             -16.333621\n",
       "3  2021-09-12             -24.598436\n",
       "4  2021-09-13             -29.178921\n",
       "5  2021-09-14             -36.753378\n",
       "6  2021-09-15             -43.889965"
      ]
     },
     "execution_count": 98,
     "metadata": {},
     "output_type": "execute_result"
    }
   ],
   "source": [
    "forecast_new_deaths"
   ]
  },
  {
   "cell_type": "markdown",
   "metadata": {},
   "source": []
  },
  {
   "cell_type": "markdown",
   "metadata": {},
   "source": [
    "## Perform ARIMA model for the variable - Total recovery"
   ]
  },
  {
   "cell_type": "code",
   "execution_count": 104,
   "metadata": {},
   "outputs": [
    {
     "name": "stdout",
     "output_type": "stream",
     "text": [
      "Performing stepwise search to minimize aic\n",
      " ARIMA(1,2,1)(0,0,0)[0]             : AIC=324.598, Time=0.49 sec\n",
      " ARIMA(0,2,0)(0,0,0)[0]             : AIC=320.703, Time=0.12 sec\n",
      " ARIMA(1,2,0)(0,0,0)[0]             : AIC=322.948, Time=0.12 sec\n",
      " ARIMA(0,2,1)(0,0,0)[0]             : AIC=322.831, Time=0.20 sec\n",
      " ARIMA(0,2,0)(0,0,0)[0] intercept   : AIC=322.702, Time=0.16 sec\n",
      "\n",
      "Best model:  ARIMA(0,2,0)(0,0,0)[0]          \n",
      "Total fit time: 1.247 seconds\n"
     ]
    }
   ],
   "source": [
    "smodel_total_recovery = auto_arima(df['Total recovery'],start_p=1,start_q=1,test='adf',max_p=3,max_q=3,m=1,d=None,seasonal=True,trace=True,strat_p=0,D=0,error_action='ignore',supress_warning=True,stepwise=True)"
   ]
  },
  {
   "cell_type": "code",
   "execution_count": 105,
   "metadata": {},
   "outputs": [
    {
     "name": "stdout",
     "output_type": "stream",
     "text": [
      "                               SARIMAX Results                                \n",
      "==============================================================================\n",
      "Dep. Variable:                      y   No. Observations:                   19\n",
      "Model:               SARIMAX(0, 2, 0)   Log Likelihood                -159.352\n",
      "Date:                Wed, 15 Sep 2021   AIC                            320.703\n",
      "Time:                        02:37:02   BIC                            321.536\n",
      "Sample:                             0   HQIC                           320.786\n",
      "                                 - 19                                         \n",
      "Covariance Type:                  opg                                         \n",
      "==============================================================================\n",
      "                 coef    std err          z      P>|z|      [0.025      0.975]\n",
      "------------------------------------------------------------------------------\n",
      "sigma2       8.02e+06   1.52e+06      5.288      0.000    5.05e+06     1.1e+07\n",
      "===================================================================================\n",
      "Ljung-Box (L1) (Q):                   4.44   Jarque-Bera (JB):                13.88\n",
      "Prob(Q):                              0.04   Prob(JB):                         0.00\n",
      "Heteroskedasticity (H):               0.14   Skew:                             0.04\n",
      "Prob(H) (two-sided):                  0.03   Kurtosis:                         7.43\n",
      "===================================================================================\n",
      "\n",
      "Warnings:\n",
      "[1] Covariance matrix calculated using the outer product of gradients (complex-step).\n"
     ]
    }
   ],
   "source": [
    "print(smodel_total_recovery.summary())"
   ]
  },
  {
   "cell_type": "code",
   "execution_count": 106,
   "metadata": {},
   "outputs": [
    {
     "data": {
      "image/png": "[encoded data removed]",
      "text/plain": [
       "<Figure size 576x432 with 4 Axes>"
      ]
     },
     "metadata": {
      "needs_background": "light"
     },
     "output_type": "display_data"
    }
   ],
   "source": [
    "#Diagnostic plot for the total recovery SARIMA model conducted\n",
    "smodel_total_recovery.plot_diagnostics(figsize=(8,6))\n",
    "plt.show()"
   ]
  },
  {
   "cell_type": "code",
   "execution_count": 107,
   "metadata": {},
   "outputs": [],
   "source": [
    "#Forecast the total recovery for the next 7 days\n",
    "n_periods=7\n",
    "forecast_total_recovery= smodel_total_recovery.predict(n_periods=n_periods)\n",
    "forecast_total_recovery= pd.DataFrame(forecast_total_recovery,columns=['Total_recovery_prediction'])"
   ]
  },
  {
   "cell_type": "code",
   "execution_count": 108,
   "metadata": {},
   "outputs": [],
   "source": [
    "date= ['2021-09-09','2021-09-10','2021-09-11','2021-09-12','2021-09-13','2021-09-14','2021-09-15']"
   ]
  },
  {
   "cell_type": "code",
   "execution_count": 109,
   "metadata": {},
   "outputs": [],
   "source": [
    "forecast_total_recovery['Date']=date"
   ]
  },
  {
   "cell_type": "code",
   "execution_count": 110,
   "metadata": {},
   "outputs": [],
   "source": [
    "forecast_total_recovery = forecast_total_recovery[['Date','Total_recovery_prediction']]"
   ]
  },
  {
   "cell_type": "code",
   "execution_count": 111,
   "metadata": {},
   "outputs": [
    {
     "data": {
      "text/html": [
       "<div>\n",
       "<style scoped>\n",
       "    .dataframe tbody tr th:only-of-type {\n",
       "        vertical-align: middle;\n",
       "    }\n",
       "\n",
       "    .dataframe tbody tr th {\n",
       "        vertical-align: top;\n",
       "    }\n",
       "\n",
       "    .dataframe thead th {\n",
       "        text-align: right;\n",
       "    }\n",
       "</style>\n",
       "<table border=\"1\" class=\"dataframe\">\n",
       "  <thead>\n",
       "    <tr style=\"text-align: right;\">\n",
       "      <th></th>\n",
       "      <th>Date</th>\n",
       "      <th>Total_recovery_prediction</th>\n",
       "    </tr>\n",
       "  </thead>\n",
       "  <tbody>\n",
       "    <tr>\n",
       "      <th>0</th>\n",
       "      <td>2021-09-09</td>\n",
       "      <td>185599.0</td>\n",
       "    </tr>\n",
       "    <tr>\n",
       "      <th>1</th>\n",
       "      <td>2021-09-10</td>\n",
       "      <td>185819.0</td>\n",
       "    </tr>\n",
       "    <tr>\n",
       "      <th>2</th>\n",
       "      <td>2021-09-11</td>\n",
       "      <td>186039.0</td>\n",
       "    </tr>\n",
       "    <tr>\n",
       "      <th>3</th>\n",
       "      <td>2021-09-12</td>\n",
       "      <td>186259.0</td>\n",
       "    </tr>\n",
       "    <tr>\n",
       "      <th>4</th>\n",
       "      <td>2021-09-13</td>\n",
       "      <td>186479.0</td>\n",
       "    </tr>\n",
       "    <tr>\n",
       "      <th>5</th>\n",
       "      <td>2021-09-14</td>\n",
       "      <td>186699.0</td>\n",
       "    </tr>\n",
       "    <tr>\n",
       "      <th>6</th>\n",
       "      <td>2021-09-15</td>\n",
       "      <td>186919.0</td>\n",
       "    </tr>\n",
       "  </tbody>\n",
       "</table>\n",
       "</div>"
      ],
      "text/plain": [
       "         Date  Total_recovery_prediction\n",
       "0  2021-09-09                   185599.0\n",
       "1  2021-09-10                   185819.0\n",
       "2  2021-09-11                   186039.0\n",
       "3  2021-09-12                   186259.0\n",
       "4  2021-09-13                   186479.0\n",
       "5  2021-09-14                   186699.0\n",
       "6  2021-09-15                   186919.0"
      ]
     },
     "execution_count": 111,
     "metadata": {},
     "output_type": "execute_result"
    }
   ],
   "source": [
    "forecast_total_recovery"
   ]
  },
  {
   "cell_type": "code",
   "execution_count": null,
   "metadata": {},
   "outputs": [],
   "source": []
  }
 ],
 "metadata": {
  "kernelspec": {
   "display_name": "Python 3",
   "language": "python",
   "name": "python3"
  },
  "language_info": {
   "codemirror_mode": {
    "name": "ipython",
    "version": 3
   },
   "file_extension": ".py",
   "mimetype": "text/x-python",
   "name": "python",
   "nbconvert_exporter": "python",
   "pygments_lexer": "ipython3",
   "version": "3.8.5"
  }
 },
 "nbformat": 4,
 "nbformat_minor": 4
}
